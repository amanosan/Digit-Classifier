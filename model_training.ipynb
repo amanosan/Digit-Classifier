{
  "nbformat": 4,
  "nbformat_minor": 0,
  "metadata": {
    "colab": {
      "name": "digit_classification.ipynb",
      "provenance": [],
      "collapsed_sections": []
    },
    "kernelspec": {
      "name": "python3",
      "display_name": "Python 3"
    },
    "language_info": {
      "name": "python"
    },
    "accelerator": "GPU"
  },
  "cells": [
    {
      "cell_type": "code",
      "metadata": {
        "id": "lfTb012F_cC1"
      },
      "source": [
        "import torch\n",
        "import torch.nn as nn\n",
        "import torchvision\n",
        "import torchvision.transforms as transforms\n",
        "import matplotlib.pyplot as plt"
      ],
      "execution_count": null,
      "outputs": []
    },
    {
      "cell_type": "code",
      "metadata": {
        "id": "1g7XolWZgqUG"
      },
      "source": [
        "# setting the device\n",
        "device = torch.device('cuda' if torch.cuda.is_available() else cpu)"
      ],
      "execution_count": null,
      "outputs": []
    },
    {
      "cell_type": "code",
      "metadata": {
        "id": "aOpinke1g3Ho"
      },
      "source": [
        "# Hyperparameters\n",
        "input_size = 784\n",
        "hidden_size = 500\n",
        "num_classes = 10\n",
        "num_epochs = 2\n",
        "batch_size = 100\n",
        "learning_rate = 0.001"
      ],
      "execution_count": null,
      "outputs": []
    },
    {
      "cell_type": "code",
      "metadata": {
        "id": "klfi64p_pt5A"
      },
      "source": [
        "# setting the transforms:\n",
        "transform = transforms.Compose(\n",
        "    [\n",
        "     transforms.ToTensor(),\n",
        "     transforms.Normalize((0.1302,), (0.3081, ))\n",
        "    ]\n",
        ")"
      ],
      "execution_count": null,
      "outputs": []
    },
    {
      "cell_type": "code",
      "metadata": {
        "id": "wvjb0oY8hKHg"
      },
      "source": [
        "# Getting the dataset\n",
        "\n",
        "train_dataset = torchvision.datasets.MNIST(\n",
        "    root='./data',\n",
        "    train=True,\n",
        "    transform=transform,\n",
        "    download=True\n",
        ")\n",
        "\n",
        "test_dataset = torchvision.datasets.MNIST(\n",
        "    root='./data',\n",
        "    train=False,\n",
        "    transform=transform\n",
        ")"
      ],
      "execution_count": null,
      "outputs": []
    },
    {
      "cell_type": "code",
      "metadata": {
        "id": "0wGcuIkEiZzY"
      },
      "source": [
        "# loading the data\n",
        "\n",
        "train_loader = torch.utils.data.DataLoader(\n",
        "    dataset=train_dataset,\n",
        "    batch_size=batch_size,\n",
        "    shuffle=True\n",
        ")\n",
        "\n",
        "test_loader = torch.utils.data.DataLoader(\n",
        "    dataset=test_dataset,\n",
        "    batch_size=batch_size,\n",
        "    shuffle=False\n",
        ")"
      ],
      "execution_count": null,
      "outputs": []
    },
    {
      "cell_type": "code",
      "metadata": {
        "id": "UY5mVIXQjB3w"
      },
      "source": [
        "# Creating the model class\n",
        "\n",
        "class NeuralNet(nn.Module):\n",
        "  def __init__(self, input_size, hidden_size, num_classes):\n",
        "    super(NeuralNet, self).__init__()\n",
        "    self.input_size = input_size\n",
        "    self.layer1 = nn.Linear(input_size, hidden_size)\n",
        "    self.relu = nn.ReLU()\n",
        "    self.output_layer = nn.Linear(hidden_size, num_classes)\n",
        "\n",
        "  def forward(self, x):\n",
        "    out = self.layer1(x)\n",
        "    out = self.relu(out)\n",
        "    out = self.output_layer(out)\n",
        "    return out"
      ],
      "execution_count": null,
      "outputs": []
    },
    {
      "cell_type": "code",
      "metadata": {
        "id": "eg5L6yf2kFLM"
      },
      "source": [
        "# Model, loss and optimizer \n",
        "\n",
        "model = NeuralNet(input_size, hidden_size, num_classes).to(device)\n",
        "\n",
        "criterion = nn.CrossEntropyLoss()\n",
        "optimizer = torch.optim.Adam(model.parameters(), lr=learning_rate)"
      ],
      "execution_count": null,
      "outputs": []
    },
    {
      "cell_type": "code",
      "metadata": {
        "colab": {
          "base_uri": "https://localhost:8080/"
        },
        "id": "2Qpy76Nakb3j",
        "outputId": "c8978ac0-2185-4eb5-d708-fe1b5be06f8f"
      },
      "source": [
        "# training the model\n",
        "total_steps = len(train_loader)\n",
        "\n",
        "for epoch in range(num_epochs):\n",
        "  for i, (images, labels) in enumerate(train_loader):\n",
        "\n",
        "    # reshaping to (, 748)\n",
        "    images = images.reshape(-1, 28*28).to(device)\n",
        "    labels = labels.to(device)\n",
        "\n",
        "    # forward pass\n",
        "    outputs = model(images)\n",
        "    loss = criterion(outputs, labels)\n",
        "\n",
        "    # backward pass\n",
        "    optimizer.zero_grad()\n",
        "    loss.backward()\n",
        "    optimizer.step()\n",
        "\n",
        "    # printing information\n",
        "    if (i+1) % 100 == 0:\n",
        "      print(f\"Epoch: [{epoch+1}/{num_epochs}], Step [{i+1}/{total_steps}], Loss [{loss.item():.4f}]\")"
      ],
      "execution_count": null,
      "outputs": [
        {
          "output_type": "stream",
          "text": [
            "Epoch: [1/2], Step [100/600], Loss [0.2711]\n",
            "Epoch: [1/2], Step [200/600], Loss [0.2126]\n",
            "Epoch: [1/2], Step [300/600], Loss [0.2675]\n",
            "Epoch: [1/2], Step [400/600], Loss [0.1052]\n",
            "Epoch: [1/2], Step [500/600], Loss [0.1671]\n",
            "Epoch: [1/2], Step [600/600], Loss [0.1282]\n",
            "Epoch: [2/2], Step [100/600], Loss [0.0770]\n",
            "Epoch: [2/2], Step [200/600], Loss [0.0897]\n",
            "Epoch: [2/2], Step [300/600], Loss [0.0938]\n",
            "Epoch: [2/2], Step [400/600], Loss [0.0743]\n",
            "Epoch: [2/2], Step [500/600], Loss [0.0767]\n",
            "Epoch: [2/2], Step [600/600], Loss [0.1558]\n"
          ],
          "name": "stdout"
        }
      ]
    },
    {
      "cell_type": "code",
      "metadata": {
        "colab": {
          "base_uri": "https://localhost:8080/"
        },
        "id": "a91upfUWmZHb",
        "outputId": "6f87a3ab-77b7-4bb0-d1e9-5baa7a940732"
      },
      "source": [
        "# Testing the model\n",
        "\n",
        "n_correct = 0\n",
        "n_samples = 0\n",
        "model.eval()\n",
        "\n",
        "with torch.no_grad():\n",
        "  for images, labels in test_loader:\n",
        "    images = images.reshape(-1, 28*28).to(device)\n",
        "    labels = labels.to(device)\n",
        "\n",
        "    outputs = model(images)\n",
        "    _, predicted = torch.max(outputs.data, 1)\n",
        "    n_samples += labels.size(0)\n",
        "    n_correct += (predicted == labels).sum().item()\n",
        "\n",
        "  acc = 100 * n_correct/n_samples\n",
        "  print(f\"Accuray of the model: {acc:.4f}\")"
      ],
      "execution_count": null,
      "outputs": [
        {
          "output_type": "stream",
          "text": [
            "Accuray of the model: 97.5000\n"
          ],
          "name": "stdout"
        }
      ]
    },
    {
      "cell_type": "code",
      "metadata": {
        "id": "M2b-0z3ro2Af"
      },
      "source": [
        "# saving the model\n",
        "torch.save(model.state_dict(), \"digit_classifier.pth\")"
      ],
      "execution_count": null,
      "outputs": []
    }
  ]
}